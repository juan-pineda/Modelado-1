{
 "cells": [
  {
   "cell_type": "code",
   "execution_count": 23,
   "metadata": {},
   "outputs": [
    {
     "ename": "SyntaxError",
     "evalue": "(unicode error) 'unicodeescape' codec can't decode bytes in position 0-1: truncated \\UXXXXXXXX escape (<ipython-input-23-5c221d413f16>, line 43)",
     "output_type": "error",
     "traceback": [
      "\u001b[0;36m  File \u001b[0;32m\"<ipython-input-23-5c221d413f16>\"\u001b[0;36m, line \u001b[0;32m43\u001b[0m\n\u001b[0;31m    plt.savefig(\"\\Users\\Jorge\\Desktop\\Figura\\matriz\"+str(k)+\".png\")\u001b[0m\n\u001b[0m               ^\u001b[0m\n\u001b[0;31mSyntaxError\u001b[0m\u001b[0;31m:\u001b[0m (unicode error) 'unicodeescape' codec can't decode bytes in position 0-1: truncated \\UXXXXXXXX escape\n"
     ]
    }
   ],
   "source": [
    "#Importamos los paquetes necesarios\n",
    "import numpy as np \n",
    "import matplotlib.pyplot as plt \n",
    "#import imageio\n",
    "#import glob \n",
    "\n",
    "#Preliminares\n",
    "matriz_inicial=np.random.randint(0,2,(12,12)) \n",
    "matriz_inicial[::11,::1]=0 \n",
    "matriz_inicial[::1,::11]=0 \n",
    "matriz=matriz_inicial[1:11,1:11] \n",
    "vecinos_inicial=np.zeros((12,12)) \n",
    "\n",
    "#Iteraciones\n",
    "for k in range(10): \n",
    "    #Calculo del número de vecinos\n",
    "    for i in range (1,11): \n",
    "        for j in range (1,11): \n",
    "            submatriz=matriz_inicial[i-1:i+2,j-1:j+2] \n",
    "            submatriz_copia=np.copy(submatriz) \n",
    "            submatriz_copia[1,1]=0 \n",
    "            sum_columnas=np.sum(submatriz_copia,axis=0) \n",
    "            num_vecinos=np.sum(sum_columnas) \n",
    "            vecinos_inicial[i,j]=num_vecinos \n",
    "            vecinos_matriz=vecinos_inicial[1:11,1:11] \n",
    "    #Reglas de juego       \n",
    "    for i in range(10): \n",
    "        for j in range (10):\n",
    "            if vecinos_matriz[i,j]<2: #R1\n",
    "                matriz[i,j]=0\n",
    "            if vecinos_matriz[i,j]>3: #R2\n",
    "                matriz[i,j]=0\n",
    "            if matriz[i,j]==1 and 2<=vecinos_matriz[i,j]<=3: #R3\n",
    "                matriz[i,j]=1\n",
    "            if matriz[i,j]==0 and vecinos_matriz[i,j]==3: #R4\n",
    "                matriz[i,j]=1\n",
    "    #Hacemos imagen la matriz\n",
    "    plt.imshow(matriz)\n",
    "    plt.xticks([])\n",
    "    plt.yticks([])\n",
    "    #Guardamos las imagenes\n",
    "    plt.savefig(\"/home/jorgerd/Escritorio/Figura/matriz\"+str(k)+\".jpg\")\n",
    "    plt.clf()\n",
    "    Hacemos y guardamos un gif de las imagenes anteriores\n",
    "    imagenes=[]\n",
    "    archivos=sorted(glob.glob(\"/home/jorgerd/Escritorio/Figura/*\"))\n",
    "    for imagen in archivos:\n",
    "        imagenes.append(imageio.imread(imagen))\n",
    "    imageio.mimsave('/home/jorgerd/Escritorio/GIF.gif',imagenes)"
   ]
  },
  {
   "cell_type": "code",
   "execution_count": null,
   "metadata": {},
   "outputs": [],
   "source": []
  }
 ],
 "metadata": {
  "kernelspec": {
   "display_name": "Python 3",
   "language": "python",
   "name": "python3"
  },
  "language_info": {
   "codemirror_mode": {
    "name": "ipython",
    "version": 3
   },
   "file_extension": ".py",
   "mimetype": "text/x-python",
   "name": "python",
   "nbconvert_exporter": "python",
   "pygments_lexer": "ipython3",
   "version": "3.6.3"
  }
 },
 "nbformat": 4,
 "nbformat_minor": 2
}
