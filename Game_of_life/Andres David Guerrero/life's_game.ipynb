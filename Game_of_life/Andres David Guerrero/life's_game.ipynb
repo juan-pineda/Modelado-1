{
 "cells": [
  {
   "cell_type": "markdown",
   "metadata": {},
   "source": [
    "# Life's Game"
   ]
  },
  {
   "cell_type": "code",
   "execution_count": 100,
   "metadata": {},
   "outputs": [],
   "source": [
    "import numpy as np \n",
    "import matplotlib.pyplot as plt "
   ]
  },
  {
   "cell_type": "markdown",
   "metadata": {},
   "source": [
    "### Población Inicial "
   ]
  },
  {
   "cell_type": "markdown",
   "metadata": {},
   "source": [
    "Población Inicial Aleatoria "
   ]
  },
  {
   "cell_type": "code",
   "execution_count": 104,
   "metadata": {},
   "outputs": [
    {
     "data": {
      "text/plain": [
       "<matplotlib.image.AxesImage at 0x7fa4f57c3208>"
      ]
     },
     "execution_count": 104,
     "metadata": {},
     "output_type": "execute_result"
    },
    {
     "data": {
      "image/png": "[encoded data removed]",
      "text/plain": [
       "<matplotlib.figure.Figure at 0x7fa4f576ac50>"
      ]
     },
     "metadata": {},
     "output_type": "display_data"
    }
   ],
   "source": [
    "initial=(np.random.normal(0, 1, (7,7)))\n",
    "initial=np.round(abs(initial/np.max(initial)))  \n",
    "plt.imshow(initial)"
   ]
  },
  {
   "cell_type": "markdown",
   "metadata": {},
   "source": [
    "Población Inicial (TEST)"
   ]
  },
  {
   "cell_type": "code",
   "execution_count": 96,
   "metadata": {},
   "outputs": [
    {
     "data": {
      "text/plain": [
       "<matplotlib.image.AxesImage at 0x7fa4f5465940>"
      ]
     },
     "execution_count": 96,
     "metadata": {},
     "output_type": "execute_result"
    },
    {
     "data": {
      "image/png": "[encoded data removed]",
      "text/plain": [
       "<matplotlib.figure.Figure at 0x7fa4f56bee80>"
      ]
     },
     "metadata": {},
     "output_type": "display_data"
    }
   ],
   "source": [
    "initial=np.zeros((7,7), dtype=int)\n",
    "initial[4,1]=1\n",
    "initial[3,2]=1\n",
    "initial[3,3]=1\n",
    "initial[4,3]=1\n",
    "initial[5,3]=1\n",
    "plt.imshow(initial)"
   ]
  },
  {
   "cell_type": "markdown",
   "metadata": {},
   "source": [
    "### Definición del Kernel\n"
   ]
  },
  {
   "cell_type": "code",
   "execution_count": 105,
   "metadata": {},
   "outputs": [],
   "source": [
    "kernel=np.ones(9, dtype=int).reshape(3,3)\n",
    "kernel[1,1]=0"
   ]
  },
  {
   "cell_type": "markdown",
   "metadata": {},
   "source": [
    "### Ciclo de Vida"
   ]
  },
  {
   "cell_type": "code",
   "execution_count": 106,
   "metadata": {},
   "outputs": [
    {
     "data": {
      "image/png": "[encoded data removed]",
      "text/plain": [
       "<matplotlib.figure.Figure at 0x7fa4f5a972b0>"
      ]
     },
     "metadata": {},
     "output_type": "display_data"
    }
   ],
   "source": [
    "M=np.size(initial,0) # Filas de initial\n",
    "N=np.size(initial,1) # Columnas de initial \n",
    "vecinos=np.zeros((M,N), dtype=int)\n",
    "\n",
    "for t in range(11):\n",
    "    for i in range(M):\n",
    "        for j in range(N):\n",
    "            # np.pad(initial,(1,1),'constant') padding de ceros para población actual o inicial \n",
    "            temp=np.multiply(kernel,np.pad(initial,(1,1),'constant')[i:i+3,j:j+3])\n",
    "            vecinos[i,j]= temp.sum() # Muestra la cantidad de vecinos que tiene el [i,j] de la población actual \n",
    "        \n",
    "            c1=[(vecinos==2)|(vecinos==3)] # Condición uno\n",
    "            c2=[vecinos==3] # Condición dos\n",
    "\n",
    "            v=[initial==1] # De la población actual cuáles están vivos? \n",
    "            m=[initial==0] # De la población actual cuáles están muertos? \n",
    "\n",
    "            temp1=np.multiply(c1,v) \n",
    "            temp2=np.multiply(c2,m)  \n",
    "    \n",
    "    New_P=(temp1*1+temp2*1).reshape(7,7) # Nueva Población \n",
    "    initial=New_P.copy() # Actualizo la población inicial \n",
    "    plt.imshow(New_P) # Muestra la imagen de la última iteración \n",
    "    plt.savefig(\"New_P\" + str(t) + \".png\") # Guarda las imagenes generadas en cada iteración \n",
    "    "
   ]
  },
  {
   "cell_type": "markdown",
   "metadata": {},
   "source": [
    "# \"pygifme un simple comando para generar gif animados\"\n"
   ]
  },
  {
   "cell_type": "markdown",
   "metadata": {},
   "source": [
    "\"Es bastante útil para generar un .gif desde varias imágenes y evitarse complicaciones con editores gráficos de imágenes\" \n"
   ]
  },
  {
   "cell_type": "markdown",
   "metadata": {},
   "source": [
    "### Pygifme Instalación"
   ]
  },
  {
   "cell_type": "markdown",
   "metadata": {},
   "source": [
    "https://pypi.python.org/pypi/pygifme/0.1 LINK DE DESCARGA "
   ]
  },
  {
   "cell_type": "markdown",
   "metadata": {},
   "source": [
    "Puede instalarse fácilmente desde pypi con:\n",
    "\n",
    "$ pip3 install pygifme\n",
    "\n",
    "También puede instalarse vía el archivo setup.py:\n",
    "\n",
    "$ python3 setup.py install\n",
    "\n",
    "Este script es para Python >= 3.0. También necesita del módulo de python argcomplete si deseas que el autompletado en línea de comandos de pygifme\n",
    "\n",
    "Puedes instalarlo con:\n",
    "\n",
    "$ sudo pip3 install argcomplete"
   ]
  },
  {
   "cell_type": "markdown",
   "metadata": {},
   "source": [
    "### Uso "
   ]
  },
  {
   "cell_type": "markdown",
   "metadata": {},
   "source": [
    "$ pygifme ~/Desktop/1.png ~/Desktop/2.png\n",
    " You now have a handsome animation at ~/Desktop/animated.gif\n",
    "\n",
    "Por supuesto también puedes agrupar archivos con glob:\n",
    "\n",
    "$ pygifme ~/Desktop/*.jpg\n",
    " You now have a handsome animation at ~/Desktop/animated.gif"
   ]
  }
 ],
 "metadata": {
  "kernelspec": {
   "display_name": "Python 3",
   "language": "python",
   "name": "python3"
  },
  "language_info": {
   "codemirror_mode": {
    "name": "ipython",
    "version": 3
   },
   "file_extension": ".py",
   "mimetype": "text/x-python",
   "name": "python",
   "nbconvert_exporter": "python",
   "pygments_lexer": "ipython3",
   "version": "3.6.4"
  }
 },
 "nbformat": 4,
 "nbformat_minor": 2
}
